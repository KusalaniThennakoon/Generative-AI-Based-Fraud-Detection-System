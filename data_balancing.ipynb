{
  "nbformat": 4,
  "nbformat_minor": 0,
  "metadata": {
    "colab": {
      "provenance": []
    },
    "kernelspec": {
      "name": "python3",
      "display_name": "Python 3"
    },
    "language_info": {
      "name": "python"
    }
  },
  "cells": [
    {
      "cell_type": "code",
      "source": [
        "import pandas as pd\n",
        "from sklearn.model_selection import train_test_split\n",
        "from imblearn.over_sampling import SMOTE, ADASYN\n",
        "from imblearn.under_sampling import RandomUnderSampler\n",
        "from imblearn.combine import SMOTEENN, SMOTETomek\n",
        "from imblearn.under_sampling import NearMiss\n",
        "from imblearn.under_sampling import TomekLinks\n",
        "from imblearn.ensemble import BalancedRandomForestClassifier\n",
        "from imblearn.under_sampling import RandomUnderSampler\n"
      ],
      "metadata": {
        "id": "auX4X-6drFrj"
      },
      "execution_count": null,
      "outputs": []
    },
    {
      "cell_type": "code",
      "source": [
        "df = pd.read_csv('cleaned_data.csv')\n",
        "df= df.dropna(subset=['isFraud'])\n",
        "X = df.drop(columns=['isFraud'])\n",
        "y = df['isFraud']\n",
        "X_train, X_test, y_train, y_test = train_test_split(X, y, test_size=0.3, random_state=42, stratify=y)"
      ],
      "metadata": {
        "id": "WxXiByJQohVb"
      },
      "execution_count": null,
      "outputs": []
    },
    {
      "cell_type": "code",
      "source": [
        "#SMOTE\n",
        "smote = SMOTE(random_state=42)\n",
        "X_train_smote, y_train_smote = smote.fit_resample(X_train, y_train)\n",
        "\n",
        "#ADASYN\n",
        "adasyn = ADASYN(random_state=42)\n",
        "X_train_adasyn, y_train_adasyn = adasyn.fit_resample(X_train, y_train)\n",
        "\n",
        "#KMeansSMOTE\n",
        "#kmeans_smote = KMeansSMOTE(random_state=42)\n",
        "#X_train_kmeans_smote, y_train_kmeans_smote = kmeans_smote.fit_resample(X_train, y_train)"
      ],
      "metadata": {
        "id": "svdCApqYo4lv"
      },
      "execution_count": null,
      "outputs": []
    },
    {
      "cell_type": "code",
      "source": [
        "print(\"Original training set class distribution:\")\n",
        "print(y_train.value_counts())\n",
        "print(\"\\nSMOTE training set class distribution:\")\n",
        "print(y_train_smote.value_counts())\n",
        "print(\"\\nADASYN training set class distribution:\")\n",
        "print(y_train_adasyn.value_counts())\n",
        "#print(\"\\nKMeansSMOTE training set class distribution:\")\n",
        "#print(y_train_kmeans_smote.value_counts())"
      ],
      "metadata": {
        "colab": {
          "base_uri": "https://localhost:8080/"
        },
        "id": "Ns746jWIw5Ik",
        "outputId": "1bec0c9c-d1ea-41a2-c64c-be1feca8651a"
      },
      "execution_count": null,
      "outputs": [
        {
          "output_type": "stream",
          "name": "stdout",
          "text": [
            "Original training set class distribution:\n",
            "isFraud\n",
            "0.0    486873\n",
            "1.0       292\n",
            "Name: count, dtype: int64\n",
            "\n",
            "SMOTE training set class distribution:\n",
            "isFraud\n",
            "0.0    486873\n",
            "1.0    486873\n",
            "Name: count, dtype: int64\n",
            "\n",
            "ADASYN training set class distribution:\n",
            "isFraud\n",
            "0.0    486873\n",
            "1.0    486764\n",
            "Name: count, dtype: int64\n"
          ]
        }
      ]
    },
    {
      "cell_type": "code",
      "source": [
        "\n",
        "# SMOTE + Tomek Links\n",
        "smote_tomek = SMOTETomek(random_state=42)\n",
        "X_train_smote_tomek, y_train_smote_tomek = smote_tomek.fit_resample(X_train, y_train)\n",
        "\n",
        "# SMOTE + ENN\n",
        "smote_enn = SMOTEENN(random_state=42)\n",
        "X_train_smote_enn, y_train_smote_enn = smote_enn.fit_resample(X_train, y_train)\n",
        "\n",
        "# BRF (Balanced Random Forest)\n",
        "brf = BalancedRandomForestClassifier(random_state=42)\n",
        "brf.fit(X_train, y_train)\n",
        "y_train_brf_pred = brf.predict(X_train)\n",
        "\n",
        "\n",
        "# ADASYN + Random Undersampling\n",
        "adasyn = ADASYN(random_state=42)\n",
        "X_train_adasyn, y_train_adasyn = adasyn.fit_resample(X_train, y_train)\n",
        "rus = RandomUnderSampler(random_state=42)\n",
        "X_train_adasyn_rus, y_train_adasyn_rus = rus.fit_resample(X_train_adasyn, y_train_adasyn)\n",
        "\n",
        "\n",
        "print(\"Original training set class distribution:\")\n",
        "print(y_train.value_counts())\n",
        "\n",
        "print(\"\\nSMOTE + Tomek Links class distribution:\")\n",
        "print(pd.Series(y_train_smote_tomek).value_counts())\n",
        "\n",
        "print(\"\\nSMOTE + ENN class distribution:\")\n",
        "print(pd.Series(y_train_smote_enn).value_counts())\n",
        "\n",
        "print(\"BRF class distribution on training set:\")\n",
        "print(pd.Series(y_train_brf_pred).value_counts())\n",
        "\n",
        "print(\"\\nADASYN + Random Undersampling class distribution:\")\n",
        "print(pd.Series(y_train_adasyn_rus).value_counts())\n"
      ],
      "metadata": {
        "colab": {
          "base_uri": "https://localhost:8080/"
        },
        "id": "8o4JEnxU2-uG",
        "outputId": "b3c28c38-ecf3-407c-fecc-c7d12a92ad91"
      },
      "execution_count": null,
      "outputs": [
        {
          "output_type": "stream",
          "name": "stderr",
          "text": [
            "/usr/local/lib/python3.10/dist-packages/imblearn/ensemble/_forest.py:577: FutureWarning: The default of `sampling_strategy` will change from `'auto'` to `'all'` in version 0.13. This change will follow the implementation proposed in the original paper. Set to `'all'` to silence this warning and adopt the future behaviour.\n",
            "  warn(\n",
            "/usr/local/lib/python3.10/dist-packages/imblearn/ensemble/_forest.py:589: FutureWarning: The default of `replacement` will change from `False` to `True` in version 0.13. This change will follow the implementation proposed in the original paper. Set to `True` to silence this warning and adopt the future behaviour.\n",
            "  warn(\n",
            "/usr/local/lib/python3.10/dist-packages/imblearn/ensemble/_forest.py:601: FutureWarning: The default of `bootstrap` will change from `True` to `False` in version 0.13. This change will follow the implementation proposed in the original paper. Set to `False` to silence this warning and adopt the future behaviour.\n",
            "  warn(\n"
          ]
        },
        {
          "output_type": "stream",
          "name": "stdout",
          "text": [
            "Original training set class distribution:\n",
            "isFraud\n",
            "0.0    486873\n",
            "1.0       292\n",
            "Name: count, dtype: int64\n",
            "\n",
            "SMOTE + Tomek Links class distribution:\n",
            "isFraud\n",
            "0.0    484254\n",
            "1.0    484254\n",
            "Name: count, dtype: int64\n",
            "\n",
            "SMOTE + ENN class distribution:\n",
            "isFraud\n",
            "1.0    465820\n",
            "0.0    439763\n",
            "Name: count, dtype: int64\n",
            "BRF class distribution on training set:\n",
            "0.0    461463\n",
            "1.0     25702\n",
            "Name: count, dtype: int64\n",
            "\n",
            "ADASYN + Random Undersampling class distribution:\n",
            "isFraud\n",
            "0.0    486764\n",
            "1.0    486764\n",
            "Name: count, dtype: int64\n"
          ]
        }
      ]
    }
  ]
}